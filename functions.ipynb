{
  "nbformat": 4,
  "nbformat_minor": 0,
  "metadata": {
    "colab": {
      "provenance": [],
      "authorship_tag": "ABX9TyND+tx73u/8fm4DX9WL3Btq",
      "include_colab_link": true
    },
    "kernelspec": {
      "name": "python3",
      "display_name": "Python 3"
    },
    "language_info": {
      "name": "python"
    }
  },
  "cells": [
    {
      "cell_type": "markdown",
      "metadata": {
        "id": "view-in-github",
        "colab_type": "text"
      },
      "source": [
        "<a href=\"https://colab.research.google.com/github/joshuaashley007/joshuaashley007/blob/main/functions.ipynb\" target=\"_parent\"><img src=\"https://colab.research.google.com/assets/colab-badge.svg\" alt=\"Open In Colab\"/></a>"
      ]
    },
    {
      "cell_type": "code",
      "execution_count": null,
      "metadata": {
        "id": "ajj0h762q_PK"
      },
      "outputs": [],
      "source": [
        "def joshua():\n",
        "  print('hello world')"
      ]
    },
    {
      "cell_type": "code",
      "source": [
        "joshua()"
      ],
      "metadata": {
        "colab": {
          "base_uri": "https://localhost:8080/"
        },
        "id": "LWwWPUG-siWe",
        "outputId": "cf55746f-6a5f-4e42-a455-1440cc2aa5e2"
      },
      "execution_count": null,
      "outputs": [
        {
          "output_type": "stream",
          "name": "stdout",
          "text": [
            "hello world\n"
          ]
        }
      ]
    },
    {
      "cell_type": "code",
      "source": [
        " def hi(x,y):\n",
        "   z=x+y\n",
        "   print('the result =',z)\n",
        "   "
      ],
      "metadata": {
        "id": "bFbeDk-9tFsd"
      },
      "execution_count": null,
      "outputs": []
    },
    {
      "cell_type": "code",
      "source": [
        "hi(4,6)"
      ],
      "metadata": {
        "colab": {
          "base_uri": "https://localhost:8080/"
        },
        "id": "PG543aj3u4zt",
        "outputId": "57104933-ab1c-4bcf-99b5-754813a529ae"
      },
      "execution_count": null,
      "outputs": [
        {
          "output_type": "stream",
          "name": "stdout",
          "text": [
            "the result = 10\n"
          ]
        }
      ]
    },
    {
      "cell_type": "code",
      "source": [
        "def ho(x,y):\n",
        "  z=x-y\n",
        "  print('the difference is',z)"
      ],
      "metadata": {
        "id": "uxHlD3Oku7vw"
      },
      "execution_count": null,
      "outputs": []
    },
    {
      "cell_type": "code",
      "source": [
        "ho(5,12)"
      ],
      "metadata": {
        "colab": {
          "base_uri": "https://localhost:8080/"
        },
        "id": "TmuPcZZjvT6e",
        "outputId": "5e6fb6b7-6ba3-4c97-b797-06eb786205ae"
      },
      "execution_count": null,
      "outputs": [
        {
          "output_type": "stream",
          "name": "stdout",
          "text": [
            "the difference is -7\n"
          ]
        }
      ]
    },
    {
      "cell_type": "code",
      "source": [
        "def josh(x,y):\n",
        "  z=x*y\n",
        "  print('multiplication',z)"
      ],
      "metadata": {
        "id": "mzkdj6IHvXxl"
      },
      "execution_count": null,
      "outputs": []
    },
    {
      "cell_type": "code",
      "source": [
        "josh(9,9)"
      ],
      "metadata": {
        "colab": {
          "base_uri": "https://localhost:8080/"
        },
        "id": "V-h8hjYUvlow",
        "outputId": "2db795f4-f4dc-4c46-f1dc-3a460432b0db"
      },
      "execution_count": null,
      "outputs": [
        {
          "output_type": "stream",
          "name": "stdout",
          "text": [
            "multiplication 81\n"
          ]
        }
      ]
    },
    {
      "cell_type": "code",
      "source": [
        "def sal(salary):\n",
        "  if salary>250000:\n",
        "    print('taxable')\n",
        "  else:\n",
        "    print('not taxable')   \n",
        "x=int(input('enter salary'))\n",
        "sal(x)\n",
        "\n"
      ],
      "metadata": {
        "colab": {
          "base_uri": "https://localhost:8080/"
        },
        "id": "CBn6zuWbvnf-",
        "outputId": "00a8712b-1bda-4063-8baa-4667fbaa91de"
      },
      "execution_count": null,
      "outputs": [
        {
          "output_type": "stream",
          "name": "stdout",
          "text": [
            "enter salary760000\n",
            "taxable\n"
          ]
        }
      ]
    },
    {
      "cell_type": "code",
      "source": [
        "\n",
        "def josh(y):\n",
        "  k=0\n",
        "  for i in range(y):\n",
        "    k=k+i\n",
        "  print(k)\n",
        "  \n",
        "\n",
        "x=int(input('enter number='))\n",
        "josh(x)\n"
      ],
      "metadata": {
        "id": "34mgUK5kwz_n",
        "colab": {
          "base_uri": "https://localhost:8080/"
        },
        "outputId": "d2c7b50c-dc26-4e5c-d66c-455c632a1d33"
      },
      "execution_count": 25,
      "outputs": [
        {
          "output_type": "stream",
          "name": "stdout",
          "text": [
            "enter number=101\n",
            "5050\n"
          ]
        }
      ]
    },
    {
      "cell_type": "code",
      "source": [
        "def kez(multi):\n",
        "  k=1\n",
        "  for i in range(1,multi):\n",
        "    k=k*i\n",
        "  print(k)\n",
        "x=int(input('enter your number'))\n",
        "kez(x)"
      ],
      "metadata": {
        "colab": {
          "base_uri": "https://localhost:8080/"
        },
        "id": "kWsTBgMn6dRi",
        "outputId": "b0d9a589-2bf8-44a0-eb5a-383dcfcce3ac"
      },
      "execution_count": 29,
      "outputs": [
        {
          "output_type": "stream",
          "name": "stdout",
          "text": [
            "enter your number4\n",
            "6\n"
          ]
        }
      ]
    },
    {
      "cell_type": "code",
      "source": [
        "def add(x,y):\n",
        "  print(x+y)\n",
        "def sub(x,y):\n",
        "  print(x-y)\n",
        "def multi(x,y):\n",
        "  print(x*y)\n",
        "def div(x,y):\n",
        "  print(x/y)\n",
        "q=int(input('enter your fist number'))\n",
        "w=int(input('enter your second number'))\n",
        "add(q,w)\n",
        "sub(q,w)\n",
        "multi(q,w)\n",
        "div(q,w)\n"
      ],
      "metadata": {
        "colab": {
          "base_uri": "https://localhost:8080/"
        },
        "id": "O5zi_u8Y8HoA",
        "outputId": "70dd0dd1-76bc-48f1-c055-5831fe45d326"
      },
      "execution_count": 37,
      "outputs": [
        {
          "output_type": "stream",
          "name": "stdout",
          "text": [
            "enter your fist number2\n",
            "enter your second number32\n",
            "34\n",
            "-30\n",
            "64\n",
            "0.0625\n"
          ]
        }
      ]
    }
  ]
}