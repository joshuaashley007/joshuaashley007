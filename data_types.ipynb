{
  "nbformat": 4,
  "nbformat_minor": 0,
  "metadata": {
    "colab": {
      "provenance": [],
      "authorship_tag": "ABX9TyPGIDJ5Mok9an2mxLLgRYes",
      "include_colab_link": true
    },
    "kernelspec": {
      "name": "python3",
      "display_name": "Python 3"
    },
    "language_info": {
      "name": "python"
    }
  },
  "cells": [
    {
      "cell_type": "markdown",
      "metadata": {
        "id": "view-in-github",
        "colab_type": "text"
      },
      "source": [
        "<a href=\"https://colab.research.google.com/github/joshuaashley007/joshuaashley007/blob/main/data_types.ipynb\" target=\"_parent\"><img src=\"https://colab.research.google.com/assets/colab-badge.svg\" alt=\"Open In Colab\"/></a>"
      ]
    },
    {
      "cell_type": "code",
      "execution_count": 2,
      "metadata": {
        "colab": {
          "base_uri": "https://localhost:8080/",
          "height": 0
        },
        "id": "K-Kp2Kfg5CMq",
        "outputId": "ee6466a6-31c3-47d4-b834-012f9bdf187d"
      },
      "outputs": [
        {
          "output_type": "stream",
          "name": "stdout",
          "text": [
            "<class 'list'>\n"
          ]
        }
      ],
      "source": [
        "g=[10,20,30,40,'mrbit']\n",
        "print(type(g))"
      ]
    },
    {
      "cell_type": "code",
      "source": [
        "friends=['joshua','abraham','ashle']\n",
        "print(friends)\n",
        "print(type(friends))\n",
        "print(friends[1])\n",
        "print(friends[0])"
      ],
      "metadata": {
        "colab": {
          "base_uri": "https://localhost:8080/",
          "height": 0
        },
        "id": "9v29Z8vG5aRM",
        "outputId": "720738da-aa40-4097-8bda-ba890a53d028"
      },
      "execution_count": 8,
      "outputs": [
        {
          "output_type": "stream",
          "name": "stdout",
          "text": [
            "['joshua', 'abraham', 'ashle', 9898, 4.4]\n",
            "<class 'list'>\n",
            "abraham\n",
            "joshua\n"
          ]
        }
      ]
    },
    {
      "cell_type": "code",
      "source": [
        "classes=['josh','jo','jacob','hji',123,34,3]\n",
        "print(classes[-4])"
      ],
      "metadata": {
        "colab": {
          "base_uri": "https://localhost:8080/",
          "height": 0
        },
        "id": "6qDunArC6DlD",
        "outputId": "19893147-400b-4537-b8e0-80f4a140586f"
      },
      "execution_count": 9,
      "outputs": [
        {
          "output_type": "stream",
          "name": "stdout",
          "text": [
            "hji\n"
          ]
        }
      ]
    },
    {
      "cell_type": "code",
      "source": [
        "classes.pop()"
      ],
      "metadata": {
        "colab": {
          "base_uri": "https://localhost:8080/",
          "height": 0
        },
        "id": "eHXKs7tU7jBE",
        "outputId": "3bf8df13-7b39-495b-88ef-203d621e5200"
      },
      "execution_count": 10,
      "outputs": [
        {
          "output_type": "execute_result",
          "data": {
            "text/plain": [
              "3"
            ]
          },
          "metadata": {},
          "execution_count": 10
        }
      ]
    },
    {
      "cell_type": "code",
      "source": [
        "classes"
      ],
      "metadata": {
        "colab": {
          "base_uri": "https://localhost:8080/",
          "height": 0
        },
        "id": "ejGIrttU8Fdz",
        "outputId": "f05e82e9-eefc-4c53-e497-0ad76c10e45c"
      },
      "execution_count": 11,
      "outputs": [
        {
          "output_type": "execute_result",
          "data": {
            "text/plain": [
              "['josh', 'jo', 'jacob', 'hji', 123, 34]"
            ]
          },
          "metadata": {},
          "execution_count": 11
        }
      ]
    },
    {
      "cell_type": "code",
      "source": [
        "classes.pop(2)\n",
        "print(classes)"
      ],
      "metadata": {
        "colab": {
          "base_uri": "https://localhost:8080/",
          "height": 0
        },
        "id": "xsXS9vic8QdO",
        "outputId": "6157872a-a934-44b3-c605-cb632c13891a"
      },
      "execution_count": 12,
      "outputs": [
        {
          "output_type": "stream",
          "name": "stdout",
          "text": [
            "['josh', 'jo', 'hji', 123, 34]\n"
          ]
        }
      ]
    },
    {
      "cell_type": "code",
      "source": [
        "print(classes.pop(1))"
      ],
      "metadata": {
        "colab": {
          "base_uri": "https://localhost:8080/",
          "height": 0
        },
        "id": "X-FUf88_9ieb",
        "outputId": "8a2a143a-cfa5-47dd-dc6a-900d58e881a3"
      },
      "execution_count": 13,
      "outputs": [
        {
          "output_type": "stream",
          "name": "stdout",
          "text": [
            "jo\n"
          ]
        }
      ]
    },
    {
      "cell_type": "code",
      "source": [
        "classes.append('shahid')"
      ],
      "metadata": {
        "id": "GeyeaRHe9mIM"
      },
      "execution_count": 14,
      "outputs": []
    },
    {
      "cell_type": "code",
      "source": [
        "print(classes)"
      ],
      "metadata": {
        "colab": {
          "base_uri": "https://localhost:8080/",
          "height": 0
        },
        "id": "MtMkuy1r-a8z",
        "outputId": "47f128f1-4e8e-4ebc-c08e-62a1278e4adf"
      },
      "execution_count": 15,
      "outputs": [
        {
          "output_type": "stream",
          "name": "stdout",
          "text": [
            "['josh', 'hji', 123, 34, 'shahid']\n"
          ]
        }
      ]
    },
    {
      "cell_type": "code",
      "source": [
        "print(classes.sort())"
      ],
      "metadata": {
        "colab": {
          "base_uri": "https://localhost:8080/",
          "height": 165
        },
        "id": "-O1qolZH-dOz",
        "outputId": "bdd6a889-1a21-4e3b-c61f-f514ace7ff04"
      },
      "execution_count": 16,
      "outputs": [
        {
          "output_type": "error",
          "ename": "TypeError",
          "evalue": "ignored",
          "traceback": [
            "\u001b[0;31m---------------------------------------------------------------------------\u001b[0m",
            "\u001b[0;31mTypeError\u001b[0m                                 Traceback (most recent call last)",
            "\u001b[0;32m<ipython-input-16-60a95b325a4a>\u001b[0m in \u001b[0;36m<module>\u001b[0;34m\u001b[0m\n\u001b[0;32m----> 1\u001b[0;31m \u001b[0mprint\u001b[0m\u001b[0;34m(\u001b[0m\u001b[0mclasses\u001b[0m\u001b[0;34m.\u001b[0m\u001b[0msort\u001b[0m\u001b[0;34m(\u001b[0m\u001b[0;34m)\u001b[0m\u001b[0;34m)\u001b[0m\u001b[0;34m\u001b[0m\u001b[0;34m\u001b[0m\u001b[0m\n\u001b[0m",
            "\u001b[0;31mTypeError\u001b[0m: '<' not supported between instances of 'int' and 'str'"
          ]
        }
      ]
    },
    {
      "cell_type": "code",
      "source": [
        "print(friends)"
      ],
      "metadata": {
        "colab": {
          "base_uri": "https://localhost:8080/",
          "height": 0
        },
        "id": "rYIrbhwY-mN7",
        "outputId": "d27f648a-071e-4326-9a45-b17f7b833486"
      },
      "execution_count": 18,
      "outputs": [
        {
          "output_type": "stream",
          "name": "stdout",
          "text": [
            "['abraham', 'ashle', 'joshua', 9898, 4.4]\n"
          ]
        }
      ]
    },
    {
      "cell_type": "code",
      "source": [
        "print(friends.pop())"
      ],
      "metadata": {
        "colab": {
          "base_uri": "https://localhost:8080/",
          "height": 0
        },
        "id": "bHgKsAbQ-yDS",
        "outputId": "2fa1edfd-e051-485b-990a-c029aaafebf2"
      },
      "execution_count": 19,
      "outputs": [
        {
          "output_type": "stream",
          "name": "stdout",
          "text": [
            "4.4\n"
          ]
        }
      ]
    },
    {
      "cell_type": "code",
      "source": [
        "print(friends.pop())"
      ],
      "metadata": {
        "colab": {
          "base_uri": "https://localhost:8080/",
          "height": 0
        },
        "id": "k_0M68KR--e7",
        "outputId": "4ce8d5a8-5377-476d-a09e-b9b8195fcd01"
      },
      "execution_count": 20,
      "outputs": [
        {
          "output_type": "stream",
          "name": "stdout",
          "text": [
            "9898\n"
          ]
        }
      ]
    },
    {
      "cell_type": "code",
      "source": [
        "print(friends)"
      ],
      "metadata": {
        "colab": {
          "base_uri": "https://localhost:8080/",
          "height": 0
        },
        "id": "HrLlZWcL_CCL",
        "outputId": "e14f3614-2d7b-403c-fa90-e7cd003d78b5"
      },
      "execution_count": 21,
      "outputs": [
        {
          "output_type": "stream",
          "name": "stdout",
          "text": [
            "['abraham', 'ashle', 'joshua']\n"
          ]
        }
      ]
    },
    {
      "cell_type": "code",
      "source": [
        "print(friends.sort())"
      ],
      "metadata": {
        "colab": {
          "base_uri": "https://localhost:8080/",
          "height": 0
        },
        "id": "whEE6sxZ_Dxj",
        "outputId": "d92e1dc0-e7d3-4290-dcf8-f3519e282ee6"
      },
      "execution_count": 22,
      "outputs": [
        {
          "output_type": "stream",
          "name": "stdout",
          "text": [
            "None\n"
          ]
        }
      ]
    },
    {
      "cell_type": "code",
      "source": [
        "friends.sort()\n",
        "print(friends)"
      ],
      "metadata": {
        "colab": {
          "base_uri": "https://localhost:8080/",
          "height": 0
        },
        "id": "6X-RLPZY_Idq",
        "outputId": "6fe82783-2f4c-4918-d2c2-b388619a9c99"
      },
      "execution_count": 23,
      "outputs": [
        {
          "output_type": "stream",
          "name": "stdout",
          "text": [
            "['abraham', 'ashle', 'joshua']\n"
          ]
        }
      ]
    },
    {
      "cell_type": "code",
      "source": [
        "friends.sort()\n",
        "print(friends)\n",
        "friends.reverse()\n",
        "print(friends)"
      ],
      "metadata": {
        "colab": {
          "base_uri": "https://localhost:8080/",
          "height": 0
        },
        "id": "jm7LsLug_Ose",
        "outputId": "a174cdf4-8902-49a4-9704-b3490cc3ce1a"
      },
      "execution_count": 28,
      "outputs": [
        {
          "output_type": "stream",
          "name": "stdout",
          "text": [
            "['abraham', 'ashle', 'joshua']\n",
            "['joshua', 'ashle', 'abraham']\n"
          ]
        }
      ]
    },
    {
      "cell_type": "code",
      "source": [
        "print(friends.reverse())"
      ],
      "metadata": {
        "id": "4TdljTde_Uyv"
      },
      "execution_count": null,
      "outputs": []
    },
    {
      "cell_type": "code",
      "source": [
        "friends.insert(1,'tim')\n",
        "print(friends)"
      ],
      "metadata": {
        "colab": {
          "base_uri": "https://localhost:8080/",
          "height": 0
        },
        "id": "Og0b3er8ABHi",
        "outputId": "2c859aaa-ce10-453a-9ec6-ddcbe50f9eeb"
      },
      "execution_count": 30,
      "outputs": [
        {
          "output_type": "stream",
          "name": "stdout",
          "text": [
            "['abraham', 'tim', 'ashle', 'joshua']\n"
          ]
        }
      ]
    },
    {
      "cell_type": "code",
      "source": [
        "friends.insert(2,'tim')\n",
        "print(friends)"
      ],
      "metadata": {
        "colab": {
          "base_uri": "https://localhost:8080/",
          "height": 0
        },
        "id": "ziziAkhVAmKa",
        "outputId": "224f91d9-74f6-4824-b406-9d00e46eb1f8"
      },
      "execution_count": 32,
      "outputs": [
        {
          "output_type": "stream",
          "name": "stdout",
          "text": [
            "['abraham', 'tim', 'tim', 'ashle', 'joshua']\n"
          ]
        }
      ]
    },
    {
      "cell_type": "code",
      "source": [
        "friends2=['hi','hello','how']\n",
        "print(friends+friends2)"
      ],
      "metadata": {
        "colab": {
          "base_uri": "https://localhost:8080/",
          "height": 0
        },
        "id": "Uk4gR1aYAsFS",
        "outputId": "4a645b44-d903-472b-d032-f245e480b217"
      },
      "execution_count": 34,
      "outputs": [
        {
          "output_type": "stream",
          "name": "stdout",
          "text": [
            "['abraham', 'tim', 'tim', 'ashle', 'joshua', 'hi', 'hello', 'how']\n"
          ]
        }
      ]
    },
    {
      "cell_type": "code",
      "source": [
        "friends[0]='mary'\n",
        "print(friends)"
      ],
      "metadata": {
        "colab": {
          "base_uri": "https://localhost:8080/",
          "height": 0
        },
        "id": "usAl4NZ7CB0z",
        "outputId": "647d2826-4771-49de-c87f-14aa91a641f3"
      },
      "execution_count": 37,
      "outputs": [
        {
          "output_type": "stream",
          "name": "stdout",
          "text": [
            "['mary', 'tim', 'tim', 'ashle', 'joshua']\n"
          ]
        }
      ]
    },
    {
      "cell_type": "code",
      "source": [
        "country=('india','usa')\n",
        "print(type(country))"
      ],
      "metadata": {
        "colab": {
          "base_uri": "https://localhost:8080/"
        },
        "id": "1DUBmr6CCtHT",
        "outputId": "6735b9f3-1ac9-4d85-b6d2-3c71c7c80e1b"
      },
      "execution_count": 38,
      "outputs": [
        {
          "output_type": "stream",
          "name": "stdout",
          "text": [
            "<class 'tuple'>\n"
          ]
        }
      ]
    },
    {
      "cell_type": "code",
      "source": [
        "h={1,2,3,4,45,4}\n",
        "print(h)"
      ],
      "metadata": {
        "colab": {
          "base_uri": "https://localhost:8080/"
        },
        "id": "J-mrIACZEzD-",
        "outputId": "fa6ef9ea-5f65-4e6f-91ae-dc1fee8ae49d"
      },
      "execution_count": 39,
      "outputs": [
        {
          "output_type": "stream",
          "name": "stdout",
          "text": [
            "{1, 2, 3, 4, 45}\n"
          ]
        }
      ]
    },
    {
      "cell_type": "code",
      "source": [
        "\n",
        "marks=[10,20,20,30,40]\n",
        "#{} ie set can only store unique values\n",
        "set1=set(marks)\n",
        "print(set1)"
      ],
      "metadata": {
        "colab": {
          "base_uri": "https://localhost:8080/"
        },
        "id": "PUnk5_veFhfq",
        "outputId": "e967c6f8-43d3-440d-ebde-e09ede6af110"
      },
      "execution_count": 42,
      "outputs": [
        {
          "output_type": "stream",
          "name": "stdout",
          "text": [
            "{40, 10, 20, 30}\n"
          ]
        }
      ]
    },
    {
      "cell_type": "code",
      "source": [
        "h={1,2,33,4,5,6,4,3,2,2}\n",
        "type(h)\n",
        "print(h)"
      ],
      "metadata": {
        "colab": {
          "base_uri": "https://localhost:8080/"
        },
        "id": "imUWfn8fG8mU",
        "outputId": "7fdc894a-75d0-428c-f92d-085240fde556"
      },
      "execution_count": 43,
      "outputs": [
        {
          "output_type": "stream",
          "name": "stdout",
          "text": [
            "{1, 2, 33, 4, 5, 6, 3}\n"
          ]
        }
      ]
    },
    {
      "cell_type": "code",
      "source": [
        "josh={'name':'joshua','favorite food':'chicken'}\n",
        "print(josh)"
      ],
      "metadata": {
        "colab": {
          "base_uri": "https://localhost:8080/"
        },
        "id": "9GppJnFjHZgZ",
        "outputId": "3c7f342c-ceda-4d2c-d632-2039b614e14d"
      },
      "execution_count": 44,
      "outputs": [
        {
          "output_type": "stream",
          "name": "stdout",
          "text": [
            "{'name': 'joshua', 'favorite food': 'chicken'}\n"
          ]
        }
      ]
    },
    {
      "cell_type": "code",
      "source": [
        "josh['body type']='muscular'\n",
        "print(josh)"
      ],
      "metadata": {
        "colab": {
          "base_uri": "https://localhost:8080/"
        },
        "id": "xusz7k00JNNS",
        "outputId": "c716c1d6-0ce2-494e-d367-d92e7eb6f2e1"
      },
      "execution_count": 45,
      "outputs": [
        {
          "output_type": "stream",
          "name": "stdout",
          "text": [
            "{'name': 'joshua', 'favorite food': 'chicken', 'body type': 'muscular'}\n"
          ]
        }
      ]
    },
    {
      "cell_type": "code",
      "source": [
        "josh['name']='joshua abrahama ashley'"
      ],
      "metadata": {
        "id": "qhPONTNGKJd8"
      },
      "execution_count": 46,
      "outputs": []
    },
    {
      "cell_type": "code",
      "source": [
        "print(josh)"
      ],
      "metadata": {
        "colab": {
          "base_uri": "https://localhost:8080/"
        },
        "id": "XuGtrPo-KUQz",
        "outputId": "f77ecb64-4a05-4524-c87c-f268bf4947eb"
      },
      "execution_count": 47,
      "outputs": [
        {
          "output_type": "stream",
          "name": "stdout",
          "text": [
            "{'name': 'joshua abrahama ashley', 'favorite food': 'chicken', 'body type': 'muscular'}\n"
          ]
        }
      ]
    },
    {
      "cell_type": "code",
      "source": [
        "def add(x,y):\n",
        "  return(x+y)\n",
        "add(2,3)"
      ],
      "metadata": {
        "colab": {
          "base_uri": "https://localhost:8080/"
        },
        "id": "uJrMgUQzKVoL",
        "outputId": "ede673a5-4387-4d56-fa4b-847cd409b7d4"
      },
      "execution_count": 48,
      "outputs": [
        {
          "output_type": "execute_result",
          "data": {
            "text/plain": [
              "5"
            ]
          },
          "metadata": {},
          "execution_count": 48
        }
      ]
    },
    {
      "cell_type": "code",
      "source": [
        "def mult(x,y,z):\n",
        "  return(x*y*z)\n",
        "mult(2,3,4)"
      ],
      "metadata": {
        "colab": {
          "base_uri": "https://localhost:8080/"
        },
        "id": "vRV0ErsrLpqg",
        "outputId": "cb4af7f8-a853-4497-a3ca-08ada1ae752e"
      },
      "execution_count": 49,
      "outputs": [
        {
          "output_type": "execute_result",
          "data": {
            "text/plain": [
              "24"
            ]
          },
          "metadata": {},
          "execution_count": 49
        }
      ]
    },
    {
      "cell_type": "code",
      "source": [],
      "metadata": {
        "id": "JIm5spNjMNSy"
      },
      "execution_count": null,
      "outputs": []
    }
  ]
}