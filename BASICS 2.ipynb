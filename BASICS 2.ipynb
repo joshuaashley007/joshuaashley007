{
  "nbformat": 4,
  "nbformat_minor": 0,
  "metadata": {
    "colab": {
      "provenance": [],
      "authorship_tag": "ABX9TyPMlTw2IkBZTR6X1ypWcndf",
      "include_colab_link": true
    },
    "kernelspec": {
      "name": "python3",
      "display_name": "Python 3"
    },
    "language_info": {
      "name": "python"
    }
  },
  "cells": [
    {
      "cell_type": "markdown",
      "metadata": {
        "id": "view-in-github",
        "colab_type": "text"
      },
      "source": [
        "<a href=\"https://colab.research.google.com/github/joshuaashley007/joshuaashley007/blob/main/BASICS%202.ipynb\" target=\"_parent\"><img src=\"https://colab.research.google.com/assets/colab-badge.svg\" alt=\"Open In Colab\"/></a>"
      ]
    },
    {
      "cell_type": "code",
      "execution_count": 4,
      "metadata": {
        "colab": {
          "base_uri": "https://localhost:8080/"
        },
        "id": "RV1_w-sIg2-_",
        "outputId": "7484c967-01e6-4e1f-adbd-dc275841b557"
      },
      "outputs": [
        {
          "output_type": "stream",
          "name": "stdout",
          "text": [
            "please type your phone number: 9876965\n",
            "please type your full name: ljhfjf\n",
            "your entered phone number is 9876965\n",
            "your entered name is ljhfjf\n"
          ]
        }
      ],
      "source": [
        "x=int(input('please type your phone number: '))\n",
        "y=input('please type your full name: ')\n",
        "print('your entered phone number is',x)\n",
        "print('your entered name is',y)"
      ]
    },
    {
      "cell_type": "code",
      "source": [
        "x=int(input('enter your first mark'))\n",
        "y=int(input('enter your second mark'))\n",
        "z=int(input('eneter your third mark'))\n",
        "sum=x+y+z\n",
        "print('the total mark is',sum)\n",
        "print('the first mark is',x)\n",
        "print('the second mark is',y)\n",
        "print('the third mark is',z)\n",
        "print('the average of marks is',sum/3)"
      ],
      "metadata": {
        "colab": {
          "base_uri": "https://localhost:8080/"
        },
        "id": "Toxro42UhOzF",
        "outputId": "4577d1cb-c576-4a11-b44e-f50f12549cca"
      },
      "execution_count": 9,
      "outputs": [
        {
          "output_type": "stream",
          "name": "stdout",
          "text": [
            "enter your first mark43\n",
            "enter your second mark32\n",
            "eneter your third mark34\n",
            "the total mark is 109\n",
            "the first mark is 43\n",
            "the second mark is 32\n",
            "the third mark is 34\n",
            "the average of marks is 36.333333333333336\n"
          ]
        }
      ]
    },
    {
      "cell_type": "code",
      "source": [
        "x=int(input('enter your number'))\n",
        "y=int(input('enter your 2nd number'))\n",
        "if x>y:\n",
        "  print(x,'is bigger')\n",
        "else:\n",
        "  print(y,'is bigger')"
      ],
      "metadata": {
        "colab": {
          "base_uri": "https://localhost:8080/"
        },
        "id": "L7dZrb6xjViW",
        "outputId": "e2efb6d2-91b0-4adf-e987-55c4dc93284e"
      },
      "execution_count": 10,
      "outputs": [
        {
          "output_type": "stream",
          "name": "stdout",
          "text": [
            "enter your number12\n",
            "enter your 2nd number23\n",
            "23 is bigger\n"
          ]
        }
      ]
    },
    {
      "cell_type": "code",
      "source": [
        "x=int(input('enter the first number'))\n",
        "y=int(input('enter the second number'))\n",
        "z=int(input('enter the third number'))\n",
        "if x>y and x>z:\n",
        "  print(x,'is bigger')\n",
        "if y>x and y>z:\n",
        "  print(y,'is bigger')\n",
        "if z>x and z>y:\n",
        "  print(z,'is bigger')"
      ],
      "metadata": {
        "colab": {
          "base_uri": "https://localhost:8080/"
        },
        "id": "ps2IptIfmOtL",
        "outputId": "8ab34b94-5f17-42e1-f83d-7ffc634277cf"
      },
      "execution_count": 28,
      "outputs": [
        {
          "output_type": "stream",
          "name": "stdout",
          "text": [
            "enter the first number3\n",
            "enter the second number4\n",
            "enter the third number1\n",
            "4 is bigger\n"
          ]
        }
      ]
    },
    {
      "cell_type": "code",
      "source": [
        "x=int(input('enter a number'))\n",
        "if x%2==0:\n",
        "  print('number is even')\n",
        "else:\n",
        "  print(x,'number is odd')"
      ],
      "metadata": {
        "colab": {
          "base_uri": "https://localhost:8080/"
        },
        "id": "6Kv5nxirqc1_",
        "outputId": "12b98b14-5661-46a9-b732-84d5cbf8ab23"
      },
      "execution_count": 37,
      "outputs": [
        {
          "output_type": "stream",
          "name": "stdout",
          "text": [
            "enter a number6\n",
            "number is even\n"
          ]
        }
      ]
    },
    {
      "cell_type": "code",
      "source": [
        "for a in range(0,11):\n",
        "  print(a)\n"
      ],
      "metadata": {
        "colab": {
          "base_uri": "https://localhost:8080/"
        },
        "id": "CUZKDVTrqe9W",
        "outputId": "7b92375d-0b04-4d48-c9bf-6a9d34142593"
      },
      "execution_count": 39,
      "outputs": [
        {
          "output_type": "stream",
          "name": "stdout",
          "text": [
            "0\n",
            "1\n",
            "2\n",
            "3\n",
            "4\n",
            "5\n",
            "6\n",
            "7\n",
            "8\n",
            "9\n",
            "10\n"
          ]
        }
      ]
    },
    {
      "cell_type": "code",
      "source": [
        "for a in range(0,11,2):\n",
        "  print(a)"
      ],
      "metadata": {
        "colab": {
          "base_uri": "https://localhost:8080/"
        },
        "id": "QNy9hrW_yg6d",
        "outputId": "a515799c-2bd4-4d0f-fee9-04da53f1a216"
      },
      "execution_count": 44,
      "outputs": [
        {
          "output_type": "stream",
          "name": "stdout",
          "text": [
            "0\n",
            "2\n",
            "4\n",
            "6\n",
            "8\n",
            "10\n"
          ]
        }
      ]
    },
    {
      "cell_type": "code",
      "source": [],
      "metadata": {
        "id": "yOcXEn2s0BFQ"
      },
      "execution_count": null,
      "outputs": []
    }
  ]
}