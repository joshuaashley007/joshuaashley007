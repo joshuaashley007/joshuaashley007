{
  "nbformat": 4,
  "nbformat_minor": 0,
  "metadata": {
    "colab": {
      "provenance": [],
      "authorship_tag": "ABX9TyPUkvVeJnc2Cf1B49N5QNP7",
      "include_colab_link": true
    },
    "kernelspec": {
      "name": "python3",
      "display_name": "Python 3"
    },
    "language_info": {
      "name": "python"
    }
  },
  "cells": [
    {
      "cell_type": "markdown",
      "metadata": {
        "id": "view-in-github",
        "colab_type": "text"
      },
      "source": [
        "<a href=\"https://colab.research.google.com/github/joshuaashley007/joshuaashley007/blob/main/FOR%20LOOP.ipynb\" target=\"_parent\"><img src=\"https://colab.research.google.com/assets/colab-badge.svg\" alt=\"Open In Colab\"/></a>"
      ]
    },
    {
      "cell_type": "code",
      "execution_count": null,
      "metadata": {
        "colab": {
          "base_uri": "https://localhost:8080/"
        },
        "id": "d4pdu-QEYNv-",
        "outputId": "5efe3a1d-4da8-404c-8f14-9bf9b7758cf0"
      },
      "outputs": [
        {
          "output_type": "stream",
          "name": "stdout",
          "text": [
            "[10, 20, 30, 40, 50]\n",
            "<class 'list'>\n",
            "10\n",
            "20\n"
          ]
        }
      ],
      "source": [
        "x=[10,20,30,40,50]\n",
        "print(x)\n",
        "print(type(x))\n",
        "print(x[0])\n",
        "print(x[-4])"
      ]
    },
    {
      "cell_type": "code",
      "source": [
        "x=[10,20,30,40]\n",
        "y=[35,46,22,96]\n",
        "x[0]*y[0]+x[1]*y[1]+x[2]*y[2]+x[3]*y[3]"
      ],
      "metadata": {
        "colab": {
          "base_uri": "https://localhost:8080/"
        },
        "id": "W8Zli9uyavdv",
        "outputId": "ba5b25cc-756d-4f6a-ff2c-5e2a5cd5ab31"
      },
      "execution_count": null,
      "outputs": [
        {
          "output_type": "execute_result",
          "data": {
            "text/plain": [
              "5770"
            ]
          },
          "metadata": {},
          "execution_count": 10
        }
      ]
    },
    {
      "cell_type": "code",
      "source": [
        "x=['Kerala','Tamil Nadu']\n",
        "y=['Chennai','Trivandrum']\n",
        "print(x[0],y[1])\n",
        "print(x[1],y[0])\n",
        "print(x[0]+' is in '+y[1])"
      ],
      "metadata": {
        "colab": {
          "base_uri": "https://localhost:8080/"
        },
        "id": "93J0zIEqbCff",
        "outputId": "d74a7fb2-6ccc-48cf-bbeb-2952aca863bf"
      },
      "execution_count": null,
      "outputs": [
        {
          "output_type": "stream",
          "name": "stdout",
          "text": [
            "Kerala Trivandrum\n",
            "Tamil Nadu Chennai\n",
            "Kerala is in Trivandrum\n"
          ]
        }
      ]
    },
    {
      "cell_type": "code",
      "source": [
        "x[-1]"
      ],
      "metadata": {
        "colab": {
          "base_uri": "https://localhost:8080/",
          "height": 35
        },
        "id": "EJVpQZd-dzk6",
        "outputId": "00127f16-e038-4782-d825-1d026a3ac330"
      },
      "execution_count": null,
      "outputs": [
        {
          "output_type": "execute_result",
          "data": {
            "text/plain": [
              "'Tamil Nadu'"
            ],
            "application/vnd.google.colaboratory.intrinsic+json": {
              "type": "string"
            }
          },
          "metadata": {},
          "execution_count": 18
        }
      ]
    },
    {
      "cell_type": "code",
      "source": [
        "print(y[-2])"
      ],
      "metadata": {
        "colab": {
          "base_uri": "https://localhost:8080/"
        },
        "id": "K2lEl2h8fzWc",
        "outputId": "c0eca2d0-c2a0-4cd7-cf31-675ff73a26d9"
      },
      "execution_count": null,
      "outputs": [
        {
          "output_type": "stream",
          "name": "stdout",
          "text": [
            "Chennai\n"
          ]
        }
      ]
    },
    {
      "cell_type": "code",
      "source": [
        "x=[10,25,26,36,39,55]\n",
        "print(x[-3])"
      ],
      "metadata": {
        "colab": {
          "base_uri": "https://localhost:8080/"
        },
        "id": "7wRMuEXPf2xL",
        "outputId": "d0ba852f-45c5-4d4d-cd18-7a5e5f3d82cc"
      },
      "execution_count": null,
      "outputs": [
        {
          "output_type": "stream",
          "name": "stdout",
          "text": [
            "36\n"
          ]
        }
      ]
    },
    {
      "cell_type": "code",
      "source": [
        "print(x[-1])\n",
        "print(x[-2])\n",
        "print(x[-3])\n",
        "print(x[-4])\n",
        "print(x[-5])\n",
        "print(x[-6])"
      ],
      "metadata": {
        "colab": {
          "base_uri": "https://localhost:8080/"
        },
        "id": "Bt0_yDGugEoq",
        "outputId": "560467e6-da4e-45db-eeab-c5918b1bc6d2"
      },
      "execution_count": null,
      "outputs": [
        {
          "output_type": "stream",
          "name": "stdout",
          "text": [
            "55\n",
            "39\n",
            "36\n",
            "26\n",
            "25\n",
            "10\n"
          ]
        }
      ]
    },
    {
      "cell_type": "code",
      "source": [
        "print(x[-5]*x[-3])"
      ],
      "metadata": {
        "colab": {
          "base_uri": "https://localhost:8080/"
        },
        "id": "l4gWrO4igN-v",
        "outputId": "6d01a102-715b-4df9-8648-604d533d356e"
      },
      "execution_count": null,
      "outputs": [
        {
          "output_type": "stream",
          "name": "stdout",
          "text": [
            "900\n"
          ]
        }
      ]
    },
    {
      "cell_type": "code",
      "source": [
        "if x[3]==10:\n",
        "  print('yes')\n",
        "else:\n",
        "  print('NO')"
      ],
      "metadata": {
        "colab": {
          "base_uri": "https://localhost:8080/"
        },
        "id": "uDbNcpwqhEv3",
        "outputId": "2e924359-2a82-40bb-975d-83ee3e11d93e"
      },
      "execution_count": null,
      "outputs": [
        {
          "output_type": "stream",
          "name": "stdout",
          "text": [
            "NO\n"
          ]
        }
      ]
    },
    {
      "cell_type": "code",
      "source": [
        "if x[2]==100:\n",
        "  print('yes it is 100')\n",
        "else:\n",
        "  print('not 100')"
      ],
      "metadata": {
        "colab": {
          "base_uri": "https://localhost:8080/"
        },
        "id": "LuRVFbXFh-wu",
        "outputId": "e4bb5be3-faf2-4908-b2b8-b233563c6a51"
      },
      "execution_count": null,
      "outputs": [
        {
          "output_type": "stream",
          "name": "stdout",
          "text": [
            "not 100\n"
          ]
        }
      ]
    },
    {
      "cell_type": "code",
      "source": [
        "if x[-1]==55:\n",
        "  print('yes ,it is 55')\n",
        "else:\n",
        "  print('no,it is not 55')"
      ],
      "metadata": {
        "colab": {
          "base_uri": "https://localhost:8080/"
        },
        "id": "O5sLSkTFih0_",
        "outputId": "96ebe276-941a-4df3-f649-9343826396cb"
      },
      "execution_count": null,
      "outputs": [
        {
          "output_type": "stream",
          "name": "stdout",
          "text": [
            "yes ,it is 55\n"
          ]
        }
      ]
    },
    {
      "cell_type": "code",
      "source": [
        "x='Joshua Abraham Ashley'\n",
        "print(x[0])"
      ],
      "metadata": {
        "colab": {
          "base_uri": "https://localhost:8080/"
        },
        "id": "iDTNk9xki4Qv",
        "outputId": "41778bd9-4c5e-4ad8-ad38-ce82453122d0"
      },
      "execution_count": null,
      "outputs": [
        {
          "output_type": "stream",
          "name": "stdout",
          "text": [
            "J\n"
          ]
        }
      ]
    },
    {
      "cell_type": "code",
      "source": [
        "print(x[3])"
      ],
      "metadata": {
        "colab": {
          "base_uri": "https://localhost:8080/"
        },
        "id": "zo4g3gV_j5BH",
        "outputId": "134b2fc3-784c-423c-90cf-9d2bd018e7e7"
      },
      "execution_count": null,
      "outputs": [
        {
          "output_type": "stream",
          "name": "stdout",
          "text": [
            "h\n"
          ]
        }
      ]
    },
    {
      "cell_type": "code",
      "source": [
        "print(x[-1])"
      ],
      "metadata": {
        "colab": {
          "base_uri": "https://localhost:8080/"
        },
        "id": "UhqYwm8vj7rH",
        "outputId": "41f6049a-face-4829-d5cf-9ff534861c80"
      },
      "execution_count": null,
      "outputs": [
        {
          "output_type": "stream",
          "name": "stdout",
          "text": [
            "y\n"
          ]
        }
      ]
    },
    {
      "cell_type": "code",
      "source": [
        "if x[0]==x[-1]:\n",
        "  print('yes, the letters are same')\n",
        "else:\n",
        "  print('no,the letters are not same')"
      ],
      "metadata": {
        "colab": {
          "base_uri": "https://localhost:8080/"
        },
        "id": "AebScBczkFUX",
        "outputId": "f74d434e-1b78-4216-832f-760d8cb888b3"
      },
      "execution_count": null,
      "outputs": [
        {
          "output_type": "stream",
          "name": "stdout",
          "text": [
            "no,the letters are not same\n"
          ]
        }
      ]
    },
    {
      "cell_type": "code",
      "source": [
        "x=[10,25,26,36,39,55]\n",
        "for a in x:\n",
        "  print(a)\n",
        "  "
      ],
      "metadata": {
        "id": "DCmkUQQZkuNr",
        "colab": {
          "base_uri": "https://localhost:8080/"
        },
        "outputId": "2d51742a-8b00-4a48-bfb7-67738dc06ddc"
      },
      "execution_count": null,
      "outputs": [
        {
          "output_type": "stream",
          "name": "stdout",
          "text": [
            "10\n",
            "25\n",
            "26\n",
            "36\n",
            "39\n",
            "55\n"
          ]
        }
      ]
    },
    {
      "cell_type": "code",
      "source": [
        "x='JOSHUA ABRAHAM ASHLEY'\n",
        "for a in x:\n",
        "  print(a)"
      ],
      "metadata": {
        "id": "ZdGDDGV-mYvr",
        "colab": {
          "base_uri": "https://localhost:8080/"
        },
        "outputId": "2dee8f1c-bfe6-4af7-b821-21dd25466e0d"
      },
      "execution_count": null,
      "outputs": [
        {
          "output_type": "stream",
          "name": "stdout",
          "text": [
            "J\n",
            "O\n",
            "S\n",
            "H\n",
            "U\n",
            "A\n",
            " \n",
            "A\n",
            "B\n",
            "R\n",
            "A\n",
            "H\n",
            "A\n",
            "M\n",
            " \n",
            "A\n",
            "S\n",
            "H\n",
            "L\n",
            "E\n",
            "Y\n"
          ]
        }
      ]
    },
    {
      "cell_type": "code",
      "source": [
        "x=['joshua abraham ashley']\n",
        "for a in x:\n",
        "  if a=='i':\n",
        "    print('yes')\n",
        "  else:\n",
        "    print('no i in my name')"
      ],
      "metadata": {
        "colab": {
          "base_uri": "https://localhost:8080/"
        },
        "id": "lLymvWNan97O",
        "outputId": "0295f463-7caa-4990-8721-63fc8fa280a6"
      },
      "execution_count": 48,
      "outputs": [
        {
          "output_type": "stream",
          "name": "stdout",
          "text": [
            "no i in my name\n"
          ]
        }
      ]
    },
    {
      "cell_type": "code",
      "source": [
        "x=[10,25,26,36,39,55]\n",
        "k=0\n",
        "for a in x:\n",
        "  k=k+a\n",
        "print(k)"
      ],
      "metadata": {
        "id": "5o2vOyytoW3g",
        "colab": {
          "base_uri": "https://localhost:8080/"
        },
        "outputId": "5a311790-ea59-4472-fb4c-24e749707ede"
      },
      "execution_count": 54,
      "outputs": [
        {
          "output_type": "stream",
          "name": "stdout",
          "text": [
            "191\n"
          ]
        }
      ]
    },
    {
      "cell_type": "code",
      "source": [],
      "metadata": {
        "id": "VjibC7XQr5vY"
      },
      "execution_count": null,
      "outputs": []
    }
  ]
}