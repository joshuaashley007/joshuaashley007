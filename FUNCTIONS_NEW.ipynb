{
  "nbformat": 4,
  "nbformat_minor": 0,
  "metadata": {
    "colab": {
      "provenance": [],
      "authorship_tag": "ABX9TyNaSmO4TIQrPtd1J6h3kb+4",
      "include_colab_link": true
    },
    "kernelspec": {
      "name": "python3",
      "display_name": "Python 3"
    },
    "language_info": {
      "name": "python"
    }
  },
  "cells": [
    {
      "cell_type": "markdown",
      "metadata": {
        "id": "view-in-github",
        "colab_type": "text"
      },
      "source": [
        "<a href=\"https://colab.research.google.com/github/joshuaashley007/joshuaashley007/blob/main/FUNCTIONS_NEW.ipynb\" target=\"_parent\"><img src=\"https://colab.research.google.com/assets/colab-badge.svg\" alt=\"Open In Colab\"/></a>"
      ]
    },
    {
      "cell_type": "code",
      "execution_count": null,
      "metadata": {
        "colab": {
          "base_uri": "https://localhost:8080/"
        },
        "id": "7lbgvknSsmId",
        "outputId": "b44e1a98-e6eb-463a-943a-0d96d07975a5"
      },
      "outputs": [
        {
          "output_type": "stream",
          "name": "stdout",
          "text": [
            "heelo\n"
          ]
        }
      ],
      "source": [
        "def fnct():\n",
        "  print('heelo')\n",
        "fnct()"
      ]
    },
    {
      "cell_type": "code",
      "source": [
        "def call(x):\n",
        "  print('welcome'+' '+x)\n",
        "call('josh')"
      ],
      "metadata": {
        "colab": {
          "base_uri": "https://localhost:8080/"
        },
        "id": "t4e3ogFBs2Az",
        "outputId": "ec9817bc-14c3-47ab-d644-5705eee69fc9"
      },
      "execution_count": null,
      "outputs": [
        {
          "output_type": "stream",
          "name": "stdout",
          "text": [
            "welcome josh\n"
          ]
        }
      ]
    },
    {
      "cell_type": "code",
      "source": [
        "def call(x,y):\n",
        "  print(x+' '+y)\n",
        "call('josh','jacob')"
      ],
      "metadata": {
        "colab": {
          "base_uri": "https://localhost:8080/"
        },
        "id": "xn4JbJFmtW9w",
        "outputId": "c63602ab-0955-4954-fa04-0860cac8d24d"
      },
      "execution_count": null,
      "outputs": [
        {
          "output_type": "stream",
          "name": "stdout",
          "text": [
            "josh jacob\n"
          ]
        }
      ]
    },
    {
      "cell_type": "code",
      "source": [
        "def call(*x):\n",
        "  print('the third student name is',x[2])\n",
        "call(1,2,3,4,5,6,7,8,9)\n",
        "\n",
        "\n"
      ],
      "metadata": {
        "colab": {
          "base_uri": "https://localhost:8080/"
        },
        "id": "CuwD3NMct-Ro",
        "outputId": "902066cb-9c98-4b7c-ebd9-5d1b0e974a76"
      },
      "execution_count": null,
      "outputs": [
        {
          "output_type": "stream",
          "name": "stdout",
          "text": [
            "the third student name is 3\n"
          ]
        }
      ]
    },
    {
      "cell_type": "code",
      "source": [
        "def call():\n",
        "  print('fifa world cup')\n",
        "call()"
      ],
      "metadata": {
        "colab": {
          "base_uri": "https://localhost:8080/"
        },
        "id": "kPwrJplXuoSv",
        "outputId": "b2b099b6-27c4-4070-8c0e-505aaf6bd8cf"
      },
      "execution_count": null,
      "outputs": [
        {
          "output_type": "stream",
          "name": "stdout",
          "text": [
            "fifa world cup\n"
          ]
        }
      ]
    },
    {
      "cell_type": "code",
      "source": [
        "def call(x,y,z):\n",
        "  print(x,y,z)\n",
        "call('joshua','abraham','ashley')"
      ],
      "metadata": {
        "colab": {
          "base_uri": "https://localhost:8080/"
        },
        "id": "7x9NnwUeu4JP",
        "outputId": "99f91c58-fa66-4c2a-a2b5-410d187dd2d4"
      },
      "execution_count": null,
      "outputs": [
        {
          "output_type": "stream",
          "name": "stdout",
          "text": [
            "joshua abraham ashley\n"
          ]
        }
      ]
    },
    {
      "cell_type": "code",
      "source": [
        "def call(firstname,secondname,lastname):\n",
        "  print(lastname,firstname,secondname)\n",
        "call('joshua','abraham','ashley')"
      ],
      "metadata": {
        "colab": {
          "base_uri": "https://localhost:8080/"
        },
        "id": "YUZYfHEbvWVg",
        "outputId": "e5360917-65b6-4077-dee0-7f737084ef19"
      },
      "execution_count": null,
      "outputs": [
        {
          "output_type": "stream",
          "name": "stdout",
          "text": [
            "ashley joshua abraham\n"
          ]
        }
      ]
    },
    {
      "cell_type": "code",
      "source": [
        "def call(*x):\n",
        "  print('my fav second player is',x[1])\n",
        "call('ronalado','messi','neymar')"
      ],
      "metadata": {
        "colab": {
          "base_uri": "https://localhost:8080/"
        },
        "id": "4Y5nZvvIxWDL",
        "outputId": "1ae93674-88e2-4b66-fd00-346f3c867362"
      },
      "execution_count": null,
      "outputs": [
        {
          "output_type": "stream",
          "name": "stdout",
          "text": [
            "my fav second player is messi\n"
          ]
        }
      ]
    },
    {
      "cell_type": "code",
      "source": [
        "def call(country = 'norway'):\n",
        "  print('i am from' + country)\n",
        "call('sweden')\n",
        "call()"
      ],
      "metadata": {
        "colab": {
          "base_uri": "https://localhost:8080/"
        },
        "id": "MOJhbNYqyKB4",
        "outputId": "15faab35-1270-4a1a-d70f-fb3ccf93c2cd"
      },
      "execution_count": null,
      "outputs": [
        {
          "output_type": "stream",
          "name": "stdout",
          "text": [
            "i am fromsweden\n",
            "i am fromnorway\n"
          ]
        }
      ]
    },
    {
      "cell_type": "code",
      "source": [
        "def call(country = 'brazil'):\n",
        "  print('my fav team is' + country)\n",
        "call('argentina')\n",
        "call()"
      ],
      "metadata": {
        "colab": {
          "base_uri": "https://localhost:8080/"
        },
        "id": "T2hmG2j218PU",
        "outputId": "4fbcb2c9-4975-4872-fb19-29a03a335786"
      },
      "execution_count": null,
      "outputs": [
        {
          "output_type": "stream",
          "name": "stdout",
          "text": [
            "my fav team isargentina\n",
            "my fav team isbrazil\n"
          ]
        }
      ]
    },
    {
      "cell_type": "code",
      "source": [
        "def facr(x):\n",
        "  if x<=1:\n",
        "    "
      ],
      "metadata": {
        "id": "Hjf2bIsn3122"
      },
      "execution_count": null,
      "outputs": []
    },
    {
      "cell_type": "code",
      "source": [],
      "metadata": {
        "id": "uG_JybTz2wTm"
      },
      "execution_count": null,
      "outputs": []
    }
  ]
}