{
  "nbformat": 4,
  "nbformat_minor": 0,
  "metadata": {
    "colab": {
      "provenance": [],
      "authorship_tag": "ABX9TyM/3NaHItktM2HxALoSWJXu",
      "include_colab_link": true
    },
    "kernelspec": {
      "name": "python3",
      "display_name": "Python 3"
    },
    "language_info": {
      "name": "python"
    }
  },
  "cells": [
    {
      "cell_type": "markdown",
      "metadata": {
        "id": "view-in-github",
        "colab_type": "text"
      },
      "source": [
        "<a href=\"https://colab.research.google.com/github/joshuaashley007/joshuaashley007/blob/main/questions.ipynb\" target=\"_parent\"><img src=\"https://colab.research.google.com/assets/colab-badge.svg\" alt=\"Open In Colab\"/></a>"
      ]
    },
    {
      "cell_type": "code",
      "execution_count": null,
      "metadata": {
        "colab": {
          "base_uri": "https://localhost:8080/"
        },
        "id": "gXFImMa5oeKT",
        "outputId": "c6ba8144-45a1-4a93-9f45-a810fbb3aa60"
      },
      "outputs": [
        {
          "output_type": "stream",
          "name": "stdout",
          "text": [
            "enter travel source goa\n",
            "enter travel destinatoin kochi\n",
            "enter number of passengers 5\n",
            "TRAVEL SOURCE = goa\n",
            "TRAVEL DESTINATION = kochi\n",
            "NUMBER OF STUDENTS 5\n"
          ]
        }
      ],
      "source": [
        "x=input('enter travel source ')\n",
        "y=input('enter travel destinatoin ')\n",
        "z=int(input('enter number of passengers '))\n",
        "print('TRAVEL SOURCE =',x)\n",
        "print('TRAVEL DESTINATION =',y)\n",
        "print('NUMBER OF STUDENTS',z)"
      ]
    },
    {
      "cell_type": "code",
      "source": [
        "x=int(input('enter the total amount'))\n",
        "y=int(input('enter number of passengers'))\n",
        "z=x/y\n",
        "print('fare per person',z)\n"
      ],
      "metadata": {
        "colab": {
          "base_uri": "https://localhost:8080/"
        },
        "id": "J7QKFbHwp9cC",
        "outputId": "a3e14506-6f73-45fc-fa7f-8617c7055945"
      },
      "execution_count": null,
      "outputs": [
        {
          "output_type": "stream",
          "name": "stdout",
          "text": [
            "enter the total amount10000\n",
            "enter number of passengers34\n",
            "fare per person 294.11764705882354\n"
          ]
        }
      ]
    },
    {
      "cell_type": "code",
      "source": [
        "x=0\n",
        "while x<5:\n",
        "  z=input('ENTER PASSENGER NAME')\n",
        "  y=int(input('ENTER TICKET FARE'))\n",
        "  print('passengers name',z,'fare',y)\n",
        "  x=x+1\n"
      ],
      "metadata": {
        "id": "m043muUuq2Af",
        "colab": {
          "base_uri": "https://localhost:8080/"
        },
        "outputId": "a1049bb0-c7af-47c9-c585-563fc131364b"
      },
      "execution_count": null,
      "outputs": [
        {
          "output_type": "stream",
          "name": "stdout",
          "text": [
            "ENTER PASSENGER NAMEjidhu\n",
            "ENTER TICKET FARE34\n",
            "passengers name jidhu fare 34\n",
            "ENTER PASSENGER NAMEjosha\n",
            "ENTER TICKET FARE23\n",
            "passengers name josha fare 23\n",
            "ENTER PASSENGER NAMEjidhu\n",
            "ENTER TICKET FARE234\n",
            "passengers name jidhu fare 234\n",
            "ENTER PASSENGER NAMEfrg\n",
            "ENTER TICKET FARE465\n",
            "passengers name frg fare 465\n",
            "ENTER PASSENGER NAMEsdf\n",
            "ENTER TICKET FARE34\n",
            "passengers name sdf fare 34\n"
          ]
        }
      ]
    },
    {
      "cell_type": "code",
      "source": [
        "x=int(input('enter total fare'))\n",
        "if x>10000:\n",
        "  print('eligible for discount')\n",
        "else:\n",
        "  print('not eligible for discount')\n",
        "  "
      ],
      "metadata": {
        "id": "NM3XCQADrtqR",
        "colab": {
          "base_uri": "https://localhost:8080/"
        },
        "outputId": "c4b09ff8-4114-49d3-dc93-5f7d5d6b8218"
      },
      "execution_count": null,
      "outputs": [
        {
          "output_type": "stream",
          "name": "stdout",
          "text": [
            "enter total fare8676\n",
            "not eligible for discount\n"
          ]
        }
      ]
    },
    {
      "cell_type": "code",
      "source": [
        "x=int(input('enter total fare'))\n",
        "if x>15000:\n",
        "  print('eligible for 20% discount')\n",
        "else:\n",
        "  print('eligible for 10% discount')"
      ],
      "metadata": {
        "colab": {
          "base_uri": "https://localhost:8080/"
        },
        "id": "JRxcfZgdt0kp",
        "outputId": "147d451e-4b15-4492-ae55-7c14c1ea8a3d"
      },
      "execution_count": null,
      "outputs": [
        {
          "output_type": "stream",
          "name": "stdout",
          "text": [
            "enter total fare120\n",
            "eligible for 10% discount\n"
          ]
        }
      ]
    },
    {
      "cell_type": "code",
      "source": [
        "x=int(input('enter total fare'))\n",
        "if x>15000:\n",
        "  z=x-x*20/100\n",
        "  print('the total amount is',x)\n",
        "  print('discounted fare is',z)\n",
        "if x>10000 and x<15000:\n",
        "  q=x-x*10/100\n",
        "  print('the total fare',x)\n",
        "  print('the discounted fare is',q)\n",
        "if x<10000:\n",
        "  w=x-x*5/100\n",
        "  print('the total fare',x)\n",
        "  print('the discounted fare is',w)"
      ],
      "metadata": {
        "colab": {
          "base_uri": "https://localhost:8080/"
        },
        "id": "7NehTxGeub06",
        "outputId": "ebe1c9d3-ada4-4325-ece7-52590947fee2"
      },
      "execution_count": null,
      "outputs": [
        {
          "output_type": "stream",
          "name": "stdout",
          "text": [
            "enter total fare567567\n",
            "the total amount is 567567\n",
            "discounted fare is 454053.6\n"
          ]
        }
      ]
    },
    {
      "cell_type": "code",
      "source": [
        "x=int(input('enter number'))\n",
        "if x>0:\n",
        "  print('number is positive')\n",
        "elif x<0:\n",
        "  print('number is negative')\n",
        "else:\n",
        "  print('number is zero')"
      ],
      "metadata": {
        "colab": {
          "base_uri": "https://localhost:8080/"
        },
        "id": "wjmoTEBLvYHS",
        "outputId": "94ceb365-5215-4bea-b57b-b64141c4f570"
      },
      "execution_count": null,
      "outputs": [
        {
          "output_type": "stream",
          "name": "stdout",
          "text": [
            "enter number0\n",
            "number is zero\n"
          ]
        }
      ]
    },
    {
      "cell_type": "code",
      "source": [
        "x=int(input('enter age'))\n",
        "if x>18:\n",
        "  print('adult')\n",
        "elif x>13 and x<19:\n",
        "  print('teenager')\n",
        "elif x>6 and x>12:\n",
        "  print('kid')\n",
        "elif x>2 and x<5:\n",
        "  print('toddler')\n",
        "else:\n",
        "  print('infant')"
      ],
      "metadata": {
        "colab": {
          "base_uri": "https://localhost:8080/"
        },
        "id": "yDk7sFfkwc6B",
        "outputId": "9122067f-3228-42ce-be0c-2483becb5399"
      },
      "execution_count": null,
      "outputs": [
        {
          "output_type": "stream",
          "name": "stdout",
          "text": [
            "entyer age6\n",
            "infant\n"
          ]
        }
      ]
    },
    {
      "cell_type": "code",
      "source": [
        "x=input('enter the initial')\n",
        "if x=='a':\n",
        "  print('vowel')\n",
        "elif x=='e':\n",
        "  print('vowel')\n",
        "elif x=='i':\n",
        "  print('vowel')\n",
        "elif x=='o':\n",
        "  print('vowel')\n",
        "elif x=='u':\n",
        "  print('vowel')\n",
        "else:\n",
        "  print('not a vowel')"
      ],
      "metadata": {
        "colab": {
          "base_uri": "https://localhost:8080/"
        },
        "id": "aIJmz4GNyqyW",
        "outputId": "0ec916cb-faea-40f3-8c17-52477be3b1e8"
      },
      "execution_count": null,
      "outputs": [
        {
          "output_type": "stream",
          "name": "stdout",
          "text": [
            "enter the initialp\n",
            "not a vowel\n"
          ]
        }
      ]
    },
    {
      "cell_type": "code",
      "source": [
        "x=input('enter full name')\n",
        "for i in x:\n",
        "  print(i)\n"
      ],
      "metadata": {
        "id": "Coeq7JrR1Xj9"
      },
      "execution_count": null,
      "outputs": []
    },
    {
      "cell_type": "code",
      "source": [
        "for i in range(45,89,2):\n",
        "  print(i)"
      ],
      "metadata": {
        "colab": {
          "base_uri": "https://localhost:8080/"
        },
        "id": "09PjUbvI5R3c",
        "outputId": "2216c77c-dec2-46e5-9eb0-fdddab260ba4"
      },
      "execution_count": null,
      "outputs": [
        {
          "output_type": "stream",
          "name": "stdout",
          "text": [
            "45\n",
            "47\n",
            "49\n",
            "51\n",
            "53\n",
            "55\n",
            "57\n",
            "59\n",
            "61\n",
            "63\n",
            "65\n",
            "67\n",
            "69\n",
            "71\n",
            "73\n",
            "75\n",
            "77\n",
            "79\n",
            "81\n",
            "83\n",
            "85\n",
            "87\n"
          ]
        }
      ]
    },
    {
      "cell_type": "code",
      "source": [
        "j=0\n",
        "for i in range(1,11):\n",
        "  j=j+i\n",
        "  print(j)\n"
      ],
      "metadata": {
        "colab": {
          "base_uri": "https://localhost:8080/"
        },
        "id": "46KsVsyT6H3q",
        "outputId": "8a4aaef1-8016-4c10-f051-1f29162af779"
      },
      "execution_count": null,
      "outputs": [
        {
          "output_type": "stream",
          "name": "stdout",
          "text": [
            "1\n",
            "3\n",
            "6\n",
            "10\n",
            "15\n",
            "21\n",
            "28\n",
            "36\n",
            "45\n",
            "55\n"
          ]
        }
      ]
    },
    {
      "cell_type": "code",
      "source": [
        "i=0\n",
        "while i<3:\n",
        "  x=input('enter name')\n",
        "  y=int(input('enter age'))\n",
        "  i=i+1\n",
        "  print(x)\n",
        "  print(y)"
      ],
      "metadata": {
        "colab": {
          "base_uri": "https://localhost:8080/"
        },
        "id": "GPq7_rIK696_",
        "outputId": "e4d4002c-c061-4c2d-ba64-f0bebceee6df"
      },
      "execution_count": 40,
      "outputs": [
        {
          "name": "stdout",
          "output_type": "stream",
          "text": [
            "cgh\n",
            "567\n",
            "cghfgjh\n",
            "567\n",
            "enter nameVJH\n"
          ]
        }
      ]
    },
    {
      "cell_type": "code",
      "source": [],
      "metadata": {
        "id": "KZVUUp_2-pll"
      },
      "execution_count": null,
      "outputs": []
    }
  ]
}